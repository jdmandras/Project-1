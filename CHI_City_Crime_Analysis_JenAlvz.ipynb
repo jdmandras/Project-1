{
 "cells": [
  {
   "cell_type": "code",
   "execution_count": 3,
   "metadata": {},
   "outputs": [],
   "source": [
    "# Import Dependencies\n",
    "import pandas as pd\n",
    "from pathlib import Path\n",
    "# import csv\n",
    "# import os\n",
    "\n",
    "# Read file and store as a DataFrame\n",
    "public_arrest_data_to_load = pd.read_csv(\"Resources/PublicReleaseArrestDataUPDATE.csv\")\n",
    "# public_arrest_data\n",
    "crimes_2015_present_to_load = pd.read_csv(\"Resources/Crimes_2015toPresent.csv\")\n",
    "# crimes_2015_present\n",
    "\n",
    "public_arrest_data = pd.DataFrame(public_arrest_data_to_load)\n",
    "crimes_2015_present = pd.DataFrame(crimes_2015_present_to_load)\n",
    "\n",
    "\n",
    "# merge both datasets - may not end up doing this\n",
    "# crime_data_complete = pd.merge(public_arrest_data, crimes_2015_present, how=\"left\", on=[\"\"])\n"
   ]
  },
  {
   "cell_type": "code",
   "execution_count": 4,
   "metadata": {},
   "outputs": [
    {
     "data": {
      "text/html": [
       "<div>\n",
       "<style scoped>\n",
       "    .dataframe tbody tr th:only-of-type {\n",
       "        vertical-align: middle;\n",
       "    }\n",
       "\n",
       "    .dataframe tbody tr th {\n",
       "        vertical-align: top;\n",
       "    }\n",
       "\n",
       "    .dataframe thead th {\n",
       "        text-align: right;\n",
       "    }\n",
       "</style>\n",
       "<table border=\"1\" class=\"dataframe\">\n",
       "  <thead>\n",
       "    <tr style=\"text-align: right;\">\n",
       "      <th></th>\n",
       "      <th>ARR_DISTRICT</th>\n",
       "      <th>ARR_BEAT</th>\n",
       "      <th>ARR_YEAR</th>\n",
       "      <th>ARR_MONTH</th>\n",
       "      <th>RACE_CODE_CD</th>\n",
       "      <th>FBI_CODE</th>\n",
       "      <th>STATUTE</th>\n",
       "      <th>STAT_DESCR</th>\n",
       "      <th>CHARGE_CLASS_CD</th>\n",
       "      <th>CHARGE_TYPE_CD</th>\n",
       "    </tr>\n",
       "  </thead>\n",
       "  <tbody>\n",
       "    <tr>\n",
       "      <th>0</th>\n",
       "      <td>10.0</td>\n",
       "      <td>1033.0</td>\n",
       "      <td>2017</td>\n",
       "      <td>8</td>\n",
       "      <td>BLK</td>\n",
       "      <td>18</td>\n",
       "      <td>720 ILCS 570.0/407-B-1</td>\n",
       "      <td>MFG/DEL COCAINE/SCH/PUB HS/PK</td>\n",
       "      <td>X</td>\n",
       "      <td>F</td>\n",
       "    </tr>\n",
       "    <tr>\n",
       "      <th>1</th>\n",
       "      <td>9.0</td>\n",
       "      <td>923.0</td>\n",
       "      <td>2017</td>\n",
       "      <td>8</td>\n",
       "      <td>WWH</td>\n",
       "      <td>WRT</td>\n",
       "      <td>725 ILCS 225.0/13</td>\n",
       "      <td>FUGITIVE FROM JUSTICE - OUT OF STATE WARRANT</td>\n",
       "      <td>Z</td>\n",
       "      <td>NaN</td>\n",
       "    </tr>\n",
       "  </tbody>\n",
       "</table>\n",
       "</div>"
      ],
      "text/plain": [
       "   ARR_DISTRICT  ARR_BEAT  ARR_YEAR  ARR_MONTH RACE_CODE_CD FBI_CODE  \\\n",
       "0          10.0    1033.0      2017          8          BLK       18   \n",
       "1           9.0     923.0      2017          8          WWH      WRT   \n",
       "\n",
       "                  STATUTE                                    STAT_DESCR  \\\n",
       "0  720 ILCS 570.0/407-B-1                 MFG/DEL COCAINE/SCH/PUB HS/PK   \n",
       "1       725 ILCS 225.0/13  FUGITIVE FROM JUSTICE - OUT OF STATE WARRANT   \n",
       "\n",
       "  CHARGE_CLASS_CD CHARGE_TYPE_CD  \n",
       "0               X              F  \n",
       "1               Z            NaN  "
      ]
     },
     "execution_count": 4,
     "metadata": {},
     "output_type": "execute_result"
    }
   ],
   "source": [
    "#visualizing both datasets\n",
    "public_arrest_data.head(2)"
   ]
  },
  {
   "cell_type": "code",
   "execution_count": 5,
   "metadata": {},
   "outputs": [
    {
     "data": {
      "text/html": [
       "<div>\n",
       "<style scoped>\n",
       "    .dataframe tbody tr th:only-of-type {\n",
       "        vertical-align: middle;\n",
       "    }\n",
       "\n",
       "    .dataframe tbody tr th {\n",
       "        vertical-align: top;\n",
       "    }\n",
       "\n",
       "    .dataframe thead th {\n",
       "        text-align: right;\n",
       "    }\n",
       "</style>\n",
       "<table border=\"1\" class=\"dataframe\">\n",
       "  <thead>\n",
       "    <tr style=\"text-align: right;\">\n",
       "      <th></th>\n",
       "      <th>District</th>\n",
       "      <th>Primary Type</th>\n",
       "      <th>Arrest</th>\n",
       "      <th>Date</th>\n",
       "      <th>IUCR</th>\n",
       "      <th>Description</th>\n",
       "      <th>Location Description</th>\n",
       "      <th>FBI Code</th>\n",
       "      <th>Year</th>\n",
       "      <th>Latitude</th>\n",
       "      <th>Longitude</th>\n",
       "    </tr>\n",
       "  </thead>\n",
       "  <tbody>\n",
       "    <tr>\n",
       "      <th>0</th>\n",
       "      <td>1.0</td>\n",
       "      <td>ARSON</td>\n",
       "      <td>True</td>\n",
       "      <td>10/26/2015 07:06:00 PM</td>\n",
       "      <td>1090</td>\n",
       "      <td>ATTEMPT ARSON</td>\n",
       "      <td>CONSTRUCTION SITE</td>\n",
       "      <td>09</td>\n",
       "      <td>2015</td>\n",
       "      <td>41.885874</td>\n",
       "      <td>-87.625284</td>\n",
       "    </tr>\n",
       "    <tr>\n",
       "      <th>1</th>\n",
       "      <td>6.0</td>\n",
       "      <td>WEAPONS VIOLATION</td>\n",
       "      <td>True</td>\n",
       "      <td>10/09/2018 11:22:00 PM</td>\n",
       "      <td>143A</td>\n",
       "      <td>UNLAWFUL POSS OF HANDGUN</td>\n",
       "      <td>STREET</td>\n",
       "      <td>15</td>\n",
       "      <td>2018</td>\n",
       "      <td>41.750717</td>\n",
       "      <td>-87.638868</td>\n",
       "    </tr>\n",
       "  </tbody>\n",
       "</table>\n",
       "</div>"
      ],
      "text/plain": [
       "   District       Primary Type  Arrest                    Date  IUCR  \\\n",
       "0       1.0              ARSON    True  10/26/2015 07:06:00 PM  1090   \n",
       "1       6.0  WEAPONS VIOLATION    True  10/09/2018 11:22:00 PM  143A   \n",
       "\n",
       "                Description Location Description FBI Code  Year   Latitude  \\\n",
       "0             ATTEMPT ARSON    CONSTRUCTION SITE       09  2015  41.885874   \n",
       "1  UNLAWFUL POSS OF HANDGUN               STREET       15  2018  41.750717   \n",
       "\n",
       "   Longitude  \n",
       "0 -87.625284  \n",
       "1 -87.638868  "
      ]
     },
     "execution_count": 5,
     "metadata": {},
     "output_type": "execute_result"
    }
   ],
   "source": [
    "#vizualizing both datasets\n",
    "crimes_2015_present.head(2)"
   ]
  },
  {
   "cell_type": "code",
   "execution_count": 6,
   "metadata": {},
   "outputs": [
    {
     "name": "stdout",
     "output_type": "stream",
     "text": [
      "<class 'pandas.core.frame.DataFrame'>\n",
      "RangeIndex: 532753 entries, 0 to 532752\n",
      "Data columns (total 11 columns):\n",
      " #   Column                Non-Null Count   Dtype  \n",
      "---  ------                --------------   -----  \n",
      " 0   District              532753 non-null  float64\n",
      " 1   Primary Type          532753 non-null  object \n",
      " 2   Arrest                532753 non-null  bool   \n",
      " 3   Date                  532753 non-null  object \n",
      " 4   IUCR                  532753 non-null  object \n",
      " 5   Description           532753 non-null  object \n",
      " 6   Location Description  531215 non-null  object \n",
      " 7   FBI Code              532753 non-null  object \n",
      " 8   Year                  532753 non-null  int64  \n",
      " 9   Latitude              528955 non-null  float64\n",
      " 10  Longitude             528955 non-null  float64\n",
      "dtypes: bool(1), float64(3), int64(1), object(6)\n",
      "memory usage: 41.2+ MB\n"
     ]
    }
   ],
   "source": [
    "crimes_2015_present.info()"
   ]
  },
  {
   "attachments": {},
   "cell_type": "markdown",
   "metadata": {},
   "source": [
    "## Crime Summary\n",
    "- Collect dataset highlights using the crimes_2015_present dataset"
   ]
  },
  {
   "cell_type": "code",
   "execution_count": 7,
   "metadata": {},
   "outputs": [
    {
     "name": "stdout",
     "output_type": "stream",
     "text": [
      "There have been a total of 532753 crimes registered in Chicago from 2015 to the present.\n"
     ]
    }
   ],
   "source": [
    "# Calculate the total number of unique crime events that happened from 2015 to present (2023)\n",
    "total_crimes_count = crimes_2015_present.count()[\"Date\"]\n",
    "total_crimes_count\n",
    "\n",
    "print(f\"There have been a total of {total_crimes_count} crimes registered in Chicago from 2015 to the present.\")"
   ]
  },
  {
   "cell_type": "code",
   "execution_count": 8,
   "metadata": {},
   "outputs": [
    {
     "data": {
      "text/plain": [
       "THEFT              133938\n",
       "BATTERY             88872\n",
       "NARCOTICS           57647\n",
       "CRIMINAL DAMAGE     37204\n",
       "OTHER OFFENSE       35391\n",
       "Name: Primary Type, dtype: int64"
      ]
     },
     "execution_count": 8,
     "metadata": {},
     "output_type": "execute_result"
    }
   ],
   "source": [
    "# Select all of the different crime description types\n",
    "crime_primary_types = crimes_2015_present[\"Primary Type\"].value_counts()\n",
    "crime_primary_types.head()"
   ]
  },
  {
   "cell_type": "code",
   "execution_count": 9,
   "metadata": {},
   "outputs": [
    {
     "data": {
      "text/plain": [
       "STREET                            125128\n",
       "RESIDENCE                          65914\n",
       "APARTMENT                          59620\n",
       "SIDEWALK                           55908\n",
       "OTHER                              19720\n",
       "PARKING LOT/GARAGE(NON.RESID.)     15800\n",
       "SMALL RETAIL STORE                 15200\n",
       "RESTAURANT                         13223\n",
       "DEPARTMENT STORE                   12865\n",
       "ALLEY                              12622\n",
       "Name: Location Description, dtype: int64"
      ]
     },
     "execution_count": 9,
     "metadata": {},
     "output_type": "execute_result"
    }
   ],
   "source": [
    "# Select all of the different Location description types\n",
    "location_description_types = crimes_2015_present[\"Location Description\"].value_counts()\n",
    "location_description_types.head(10)"
   ]
  },
  {
   "cell_type": "code",
   "execution_count": 10,
   "metadata": {},
   "outputs": [
    {
     "data": {
      "text/plain": [
       "25.0    57332\n",
       "12.0    54080\n",
       "19.0    48723\n",
       "18.0    43753\n",
       "11.0    42273\n",
       "15.0    41019\n",
       "14.0    39289\n",
       "24.0    23799\n",
       "22.0    20444\n",
       "20.0    18515\n",
       "16.0    16500\n",
       "6.0     15806\n",
       "7.0     15426\n",
       "10.0    14743\n",
       "4.0     13049\n",
       "5.0     11768\n",
       "8.0     11684\n",
       "1.0     10254\n",
       "9.0     10096\n",
       "3.0      9806\n",
       "2.0      7247\n",
       "17.0     7120\n",
       "31.0       27\n",
       "Name: District, dtype: int64"
      ]
     },
     "execution_count": 10,
     "metadata": {},
     "output_type": "execute_result"
    }
   ],
   "source": [
    "# Select all of the different Districts\n",
    "districts = crimes_2015_present[\"District\"].value_counts()\n",
    "districts.head(50)"
   ]
  },
  {
   "cell_type": "code",
   "execution_count": 11,
   "metadata": {},
   "outputs": [
    {
     "data": {
      "text/plain": [
       "06     133938\n",
       "08B     76972\n",
       "18      57460\n",
       "26      55618\n",
       "Name: FBI Code, dtype: int64"
      ]
     },
     "execution_count": 11,
     "metadata": {},
     "output_type": "execute_result"
    }
   ],
   "source": [
    "# Select all of the different FBI Codes\n",
    "FBI_codes = crimes_2015_present[\"FBI Code\"].value_counts()\n",
    "FBI_codes.head(4)"
   ]
  },
  {
   "cell_type": "code",
   "execution_count": 12,
   "metadata": {},
   "outputs": [],
   "source": [
    "# Create a high-level snapshot of the City's crime dataset\n",
    "# crime_summary = pd.DataFrame({\n",
    "    # \"Total Crimes Count\": total_crimes_count, \n",
    "    \n",
    "# })"
   ]
  },
  {
   "cell_type": "code",
   "execution_count": 13,
   "metadata": {},
   "outputs": [
    {
     "data": {
      "text/plain": [
       "0          1.0\n",
       "1          6.0\n",
       "2          6.0\n",
       "3          6.0\n",
       "4          6.0\n",
       "          ... \n",
       "532748    16.0\n",
       "532749    16.0\n",
       "532750    16.0\n",
       "532751    16.0\n",
       "532752    16.0\n",
       "Name: District, Length: 532753, dtype: float64"
      ]
     },
     "execution_count": 13,
     "metadata": {},
     "output_type": "execute_result"
    }
   ],
   "source": [
    "# Calaculate the top crimes committed per district\n",
    "crimes_2015_present[\"District\"]"
   ]
  },
  {
   "attachments": {},
   "cell_type": "markdown",
   "metadata": {},
   "source": [
    "## Demographic Summary\n",
    "- Collect dataset highlights using public_arrest_data\n"
   ]
  },
  {
   "cell_type": "code",
   "execution_count": 14,
   "metadata": {},
   "outputs": [
    {
     "name": "stdout",
     "output_type": "stream",
     "text": [
      "There have been a total of 410682 crimes registered in Chicago from 2015 to the present, based on the second dataset.\n"
     ]
    }
   ],
   "source": [
    "# Calculate the total number of unique crime events that happened from 2015 to present (2023) in the public_arrest_data dataset\n",
    "total_crimes_public_arr_count = public_arrest_data.count()[\"ARR_YEAR\"]\n",
    "total_crimes_public_arr_count\n",
    "\n",
    "print(f\"There have been a total of {total_crimes_public_arr_count} crimes registered in Chicago from 2015 to the present, based on the second dataset.\")"
   ]
  },
  {
   "cell_type": "code",
   "execution_count": 16,
   "metadata": {},
   "outputs": [
    {
     "data": {
      "text/plain": [
       "11.0    52298\n",
       "7.0     28327\n",
       "25.0    27351\n",
       "15.0    26037\n",
       "10.0    25751\n",
       "6.0     25628\n",
       "4.0     22622\n",
       "8.0     22489\n",
       "5.0     20722\n",
       "9.0     19813\n",
       "3.0     19044\n",
       "1.0     16425\n",
       "2.0     14061\n",
       "19.0    12407\n",
       "12.0    12193\n",
       "18.0    12000\n",
       "22.0    10846\n",
       "16.0    10135\n",
       "14.0     8365\n",
       "24.0     8170\n",
       "17.0     7091\n",
       "20.0     5086\n",
       "Name: ARR_DISTRICT, dtype: int64"
      ]
     },
     "execution_count": 16,
     "metadata": {},
     "output_type": "execute_result"
    }
   ],
   "source": [
    "# WHAT IS THE ARREST COUNT PER DISTRICT?\n",
    "total_arrests_per_distrct = public_arrest_data[\"ARR_DISTRICT\"].value_counts()\n",
    "total_arrests_per_distrct"
   ]
  },
  {
   "cell_type": "code",
   "execution_count": 17,
   "metadata": {},
   "outputs": [
    {
     "data": {
      "text/plain": [
       "BLK    298318\n",
       "WWH     71997\n",
       "WHI     34647\n",
       "WBH      2417\n",
       "API      2375\n",
       "U         635\n",
       "I         293\n",
       "Name: RACE_CODE_CD, dtype: int64"
      ]
     },
     "execution_count": 17,
     "metadata": {},
     "output_type": "execute_result"
    }
   ],
   "source": [
    "# WHAT IS THE TOTAL ARREST COUNT, PER RACE?\n",
    "total_arrests_per_race = public_arrest_data[\"RACE_CODE_CD\"].value_counts()\n",
    "total_arrests_per_race\n"
   ]
  },
  {
   "cell_type": "code",
   "execution_count": null,
   "metadata": {},
   "outputs": [],
   "source": [
    "# WHICH 4 DISTRICTS HAVE THE HIGHEST COUNT OF ARRESTS?\n"
   ]
  },
  {
   "cell_type": "code",
   "execution_count": 12,
   "metadata": {},
   "outputs": [],
   "source": [
    "# What is the relationship between the top 4(?) district's ethnic demographic and police-involved fatalities? "
   ]
  }
 ],
 "metadata": {
  "kernelspec": {
   "display_name": "python_data",
   "language": "python",
   "name": "python3"
  },
  "language_info": {
   "codemirror_mode": {
    "name": "ipython",
    "version": 3
   },
   "file_extension": ".py",
   "mimetype": "text/x-python",
   "name": "python",
   "nbconvert_exporter": "python",
   "pygments_lexer": "ipython3",
   "version": "3.7.7"
  },
  "orig_nbformat": 4
 },
 "nbformat": 4,
 "nbformat_minor": 2
}
