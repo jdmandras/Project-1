{
 "cells": [
  {
   "cell_type": "code",
   "execution_count": 1,
   "metadata": {},
   "outputs": [
    {
     "name": "stdout",
     "output_type": "stream",
     "text": [
      "Requirement already satisfied: matplotlib in c:\\users\\alvar\\anaconda3\\lib\\site-packages (3.7.1)Note: you may need to restart the kernel to use updated packages.\n",
      "\n",
      "Requirement already satisfied: packaging>=20.0 in c:\\users\\alvar\\anaconda3\\lib\\site-packages (from matplotlib) (23.0)\n",
      "Requirement already satisfied: pillow>=6.2.0 in c:\\users\\alvar\\anaconda3\\lib\\site-packages (from matplotlib) (9.4.0)\n",
      "Requirement already satisfied: kiwisolver>=1.0.1 in c:\\users\\alvar\\anaconda3\\lib\\site-packages (from matplotlib) (1.4.4)\n",
      "Requirement already satisfied: numpy>=1.20 in c:\\users\\alvar\\anaconda3\\lib\\site-packages (from matplotlib) (1.24.3)\n",
      "Requirement already satisfied: python-dateutil>=2.7 in c:\\users\\alvar\\anaconda3\\lib\\site-packages (from matplotlib) (2.8.2)\n",
      "Requirement already satisfied: pyparsing>=2.3.1 in c:\\users\\alvar\\anaconda3\\lib\\site-packages (from matplotlib) (3.0.9)\n",
      "Requirement already satisfied: fonttools>=4.22.0 in c:\\users\\alvar\\anaconda3\\lib\\site-packages (from matplotlib) (4.40.0)\n",
      "Requirement already satisfied: contourpy>=1.0.1 in c:\\users\\alvar\\anaconda3\\lib\\site-packages (from matplotlib) (1.1.0)\n",
      "Requirement already satisfied: cycler>=0.10 in c:\\users\\alvar\\anaconda3\\lib\\site-packages (from matplotlib) (0.11.0)\n",
      "Requirement already satisfied: six>=1.5 in c:\\users\\alvar\\anaconda3\\lib\\site-packages (from python-dateutil>=2.7->matplotlib) (1.16.0)\n"
     ]
    }
   ],
   "source": [
    "pip install matplotlib"
   ]
  },
  {
   "cell_type": "code",
   "execution_count": 2,
   "metadata": {},
   "outputs": [],
   "source": [
    "%matplotlib notebook"
   ]
  },
  {
   "cell_type": "code",
   "execution_count": 3,
   "metadata": {},
   "outputs": [],
   "source": [
    "%matplotlib inline"
   ]
  },
  {
   "cell_type": "code",
   "execution_count": 4,
   "metadata": {},
   "outputs": [],
   "source": [
    "# Import Dependencies\n",
    "import pandas as pd\n",
    "from pathlib import Path\n",
    "import csv\n",
    "import matplotlib.pyplot as plt\n",
    "# import os\n",
    "\n",
    "# Read file and store as a DataFrame\n",
    "public_arrest_data_to_load = pd.read_csv(\"Resources/PublicReleaseArrestDataUPDATE.csv\")\n",
    "# crimes_2015_present_to_load = pd.read_csv(\"Resources/Crimes_2015toPresent.csv\")\n",
    "# fatal_shootings_data_to_load = pd.read_csv('Resources/Fatal_Shootings_Dot_OrgUPDATED.csv',encoding='latin-1')\n",
    "fatalities_data_to_load = pd.read_csv(\"Resources/Fatal_complete.csv\")\n",
    "\n",
    "public_arrest_data = pd.DataFrame(public_arrest_data_to_load)\n",
    "# public_arrest_data.head()\n",
    "# crimes_2015_present = pd.DataFrame(crimes_2015_present_to_load)\n",
    "# crimes_2015_present.head()\n",
    "fatalities_data = pd.DataFrame(fatalities_data_to_load)\n",
    "# fatal_shootings_data.head()\n",
    "\n",
    "\n",
    "# merge datasets \n",
    "# crime_data_complete = pd.merge(fatalities_shoot_data, , how=\"left\", on=[\"Date\"])\n",
    "# crime_data_complete\n",
    "# crime_data_complete.to_csv(\"Crime_data_complete\")\n"
   ]
  },
  {
   "cell_type": "code",
   "execution_count": 5,
   "metadata": {},
   "outputs": [
    {
     "data": {
      "text/html": [
       "<div>\n",
       "<style scoped>\n",
       "    .dataframe tbody tr th:only-of-type {\n",
       "        vertical-align: middle;\n",
       "    }\n",
       "\n",
       "    .dataframe tbody tr th {\n",
       "        vertical-align: top;\n",
       "    }\n",
       "\n",
       "    .dataframe thead th {\n",
       "        text-align: right;\n",
       "    }\n",
       "</style>\n",
       "<table border=\"1\" class=\"dataframe\">\n",
       "  <thead>\n",
       "    <tr style=\"text-align: right;\">\n",
       "      <th></th>\n",
       "      <th>ARR_DISTRICT</th>\n",
       "      <th>ARR_BEAT</th>\n",
       "      <th>ARR_YEAR</th>\n",
       "      <th>ARR_MONTH</th>\n",
       "      <th>RACE_CODE_CD</th>\n",
       "      <th>FBI_CODE</th>\n",
       "      <th>STATUTE</th>\n",
       "      <th>STAT_DESCR</th>\n",
       "      <th>CHARGE_CLASS_CD</th>\n",
       "      <th>CHARGE_TYPE_CD</th>\n",
       "    </tr>\n",
       "  </thead>\n",
       "  <tbody>\n",
       "    <tr>\n",
       "      <th>0</th>\n",
       "      <td>10.0</td>\n",
       "      <td>1033.0</td>\n",
       "      <td>2017</td>\n",
       "      <td>8</td>\n",
       "      <td>BLK</td>\n",
       "      <td>18</td>\n",
       "      <td>720 ILCS 570.0/407-B-1</td>\n",
       "      <td>MFG/DEL COCAINE/SCH/PUB HS/PK</td>\n",
       "      <td>X</td>\n",
       "      <td>F</td>\n",
       "    </tr>\n",
       "    <tr>\n",
       "      <th>1</th>\n",
       "      <td>9.0</td>\n",
       "      <td>923.0</td>\n",
       "      <td>2017</td>\n",
       "      <td>8</td>\n",
       "      <td>WWH</td>\n",
       "      <td>WRT</td>\n",
       "      <td>725 ILCS 225.0/13</td>\n",
       "      <td>FUGITIVE FROM JUSTICE - OUT OF STATE WARRANT</td>\n",
       "      <td>Z</td>\n",
       "      <td>NaN</td>\n",
       "    </tr>\n",
       "  </tbody>\n",
       "</table>\n",
       "</div>"
      ],
      "text/plain": [
       "   ARR_DISTRICT  ARR_BEAT  ARR_YEAR  ARR_MONTH RACE_CODE_CD FBI_CODE  \\\n",
       "0          10.0    1033.0      2017          8          BLK       18   \n",
       "1           9.0     923.0      2017          8          WWH      WRT   \n",
       "\n",
       "                  STATUTE                                    STAT_DESCR  \\\n",
       "0  720 ILCS 570.0/407-B-1                 MFG/DEL COCAINE/SCH/PUB HS/PK   \n",
       "1       725 ILCS 225.0/13  FUGITIVE FROM JUSTICE - OUT OF STATE WARRANT   \n",
       "\n",
       "  CHARGE_CLASS_CD CHARGE_TYPE_CD  \n",
       "0               X              F  \n",
       "1               Z            NaN  "
      ]
     },
     "execution_count": 5,
     "metadata": {},
     "output_type": "execute_result"
    }
   ],
   "source": [
    "#visualizing both datasets\n",
    "public_arrest_data.head(2)"
   ]
  },
  {
   "cell_type": "code",
   "execution_count": 6,
   "metadata": {},
   "outputs": [],
   "source": [
    "#vizualizing both datasets\n",
    "# crimes_2015_present.head(2)"
   ]
  },
  {
   "cell_type": "code",
   "execution_count": 7,
   "metadata": {},
   "outputs": [],
   "source": [
    "# crimes_2015_present.info()"
   ]
  },
  {
   "attachments": {},
   "cell_type": "markdown",
   "metadata": {},
   "source": [
    "## Crime Summary\n",
    "- Collect dataset highlights using the crimes_2015_present dataset"
   ]
  },
  {
   "cell_type": "code",
   "execution_count": 8,
   "metadata": {},
   "outputs": [],
   "source": [
    "# Calculate the total number of unique crime events that happened from 2015 to present (2023)\n",
    "# total_crimes_count = crimes_2015_present.count()[\"Date\"]\n",
    "# total_crimes_count\n",
    "\n",
    "# print(f\"There have been a total of {total_crimes_count} crimes registered in Chicago from 2015 to the present.\")"
   ]
  },
  {
   "cell_type": "code",
   "execution_count": 9,
   "metadata": {},
   "outputs": [],
   "source": [
    "# Select all of the different crime description types\n",
    "# crime_primary_types = crimes_2015_present[\"Primary Type\"].value_counts()\n",
    "# crime_primary_types.head()"
   ]
  },
  {
   "cell_type": "code",
   "execution_count": 10,
   "metadata": {},
   "outputs": [],
   "source": [
    "# Select all of the different Location description types\n",
    "# location_description_types = crimes_2015_present[\"Location Description\"].value_counts()\n",
    "# location_description_types.head(10)"
   ]
  },
  {
   "cell_type": "code",
   "execution_count": 11,
   "metadata": {},
   "outputs": [],
   "source": [
    "# Select all of the different Districts\n",
    "# districts = crimes_2015_present[\"District\"].value_counts()\n",
    "# districts.head(50)"
   ]
  },
  {
   "cell_type": "code",
   "execution_count": 12,
   "metadata": {},
   "outputs": [],
   "source": [
    "# Select all of the different FBI Codes\n",
    "# FBI_codes = crimes_2015_present[\"FBI Code\"].value_counts()\n",
    "# FBI_codes.head(4)"
   ]
  },
  {
   "cell_type": "code",
   "execution_count": 13,
   "metadata": {},
   "outputs": [],
   "source": [
    "# Calaculate the top crimes committed per district\n",
    "# crimes_2015_present[\"District\"]"
   ]
  },
  {
   "attachments": {},
   "cell_type": "markdown",
   "metadata": {},
   "source": [
    "## Demographic Summary\n",
    "- Collect dataset highlights using public_arrest_data\n",
    "- Years 2015 - 2017\n"
   ]
  },
  {
   "cell_type": "code",
   "execution_count": 14,
   "metadata": {},
   "outputs": [
    {
     "name": "stdout",
     "output_type": "stream",
     "text": [
      "There have been a total of 410682 crimes registered in Chicago from 2014 to 2017, based on Public Release Arrest Dataset.\n"
     ]
    }
   ],
   "source": [
    "# Calculate the total number of unique crime events that took place from 2014-2017 in the public_arrest_data dataset\n",
    "total_crimes_public_arr_count = public_arrest_data.count()[\"ARR_YEAR\"]\n",
    "total_crimes_public_arr_count\n",
    "\n",
    "print(f\"There have been a total of {total_crimes_public_arr_count} crimes registered in Chicago from 2014 to 2017, based on Public Release Arrest Dataset.\")"
   ]
  },
  {
   "cell_type": "code",
   "execution_count": 15,
   "metadata": {},
   "outputs": [
    {
     "name": "stdout",
     "output_type": "stream",
     "text": [
      "Districts 11 and 7 have the highest number of arrests in the city of Chicago during 2014-2017.\n"
     ]
    }
   ],
   "source": [
    "# WHAT IS THE ARREST COUNT PER DISTRICT?\n",
    "total_arrests_per_distrct = public_arrest_data[\"ARR_DISTRICT\"].value_counts()\n",
    "total_arrests_per_distrct.head(2)\n",
    "\n",
    "# WHICH 2 DISTRICTS HAVE THE HIGHEST COUNT OF ARRESTS?\n",
    "print(f\"Districts 11 and 7 have the highest number of arrests in the city of Chicago during 2014-2017.\")"
   ]
  },
  {
   "cell_type": "code",
   "execution_count": 16,
   "metadata": {},
   "outputs": [
    {
     "name": "stdout",
     "output_type": "stream",
     "text": [
      "Districts 17 and 20 have the lowest number of arrests in the city of Chicago during 2014-2017.\n"
     ]
    }
   ],
   "source": [
    "# WHICH 2 DISTRICTS HAVE THE LOWEST COUNT OF ARRESTS?\n",
    "total_arrests_per_distrct = public_arrest_data[\"ARR_DISTRICT\"].value_counts()\n",
    "total_arrests_per_distrct.tail(2)\n",
    "print(f\"Districts 17 and 20 have the lowest number of arrests in the city of Chicago during 2014-2017.\")"
   ]
  },
  {
   "cell_type": "code",
   "execution_count": 28,
   "metadata": {},
   "outputs": [
    {
     "data": {
      "text/plain": [
       "ARR_YEAR\n",
       "2014    128603\n",
       "2015    112574\n",
       "2016     85805\n",
       "2017     83700\n",
       "dtype: int64"
      ]
     },
     "execution_count": 28,
     "metadata": {},
     "output_type": "execute_result"
    }
   ],
   "source": [
    "# WHAT IS THE TOTAL ARREST COUNT, PER RACE?\n",
    "total_arrests_per_race = public_arrest_data[public_arrest_data['RACE_CODE_CD'].notnull() ].groupby('ARR_YEAR').size()\n",
    "total_arrests_per_race\n"
   ]
  },
  {
   "cell_type": "code",
   "execution_count": 26,
   "metadata": {},
   "outputs": [
    {
     "data": {
      "text/plain": [
       "RACE_CODE_CD\n",
       "API      2375\n",
       "BLK    298318\n",
       "I         293\n",
       "U         635\n",
       "WBH      2417\n",
       "WHI     34647\n",
       "WWH     71997\n",
       "dtype: int64"
      ]
     },
     "execution_count": 26,
     "metadata": {},
     "output_type": "execute_result"
    }
   ],
   "source": [
    "#count the number of arrests by race\n",
    "total_arrests_by_race = public_arrest_data.groupby('RACE_CODE_CD').size()\n",
    "total_arrests_by_race"
   ]
  },
  {
   "cell_type": "code",
   "execution_count": 34,
   "metadata": {},
   "outputs": [
    {
     "data": {
      "text/plain": [
       "<function matplotlib.pyplot.show(close=None, block=None)>"
      ]
     },
     "execution_count": 34,
     "metadata": {},
     "output_type": "execute_result"
    },
    {
     "data": {
      "image/png": "[encoded data removed]",
      "text/plain": [
       "<Figure size 640x480 with 1 Axes>"
      ]
     },
     "metadata": {},
     "output_type": "display_data"
    }
   ],
   "source": [
    "\n",
    "#plot the number of arrests by race\n",
    "total_arrests_by_race.plot(kind='bar', color= 'g', alpha=0.5, align=\"edge\")\n",
    "plt.xticks(rotation=\"vertical\")\n",
    "plt.xlabel(\"Race\")\n",
    "plt.ylabel(\"Total Arrests Made\")\n",
    "# plt.legend(\"Race\")\n",
    "plt.title(\"Total Arrests Made in Chicago from 2014-2017, by Race\")\n",
    "plt.show"
   ]
  },
  {
   "attachments": {},
   "cell_type": "markdown",
   "metadata": {},
   "source": [
    "## Demographic Summary\n",
    "- Collect dataset highlights using fatalities_data\n",
    "- Years 2015-2023\n"
   ]
  },
  {
   "cell_type": "code",
   "execution_count": 20,
   "metadata": {},
   "outputs": [
    {
     "name": "stdout",
     "output_type": "stream",
     "text": [
      "There have been a total of 115 shooting fatalities registered in the city of Chicago from 2015 to the present, based on Fatalities Dataset.\n"
     ]
    }
   ],
   "source": [
    "# Calculate the total number of unique shooting fatality events that took place from 2015 to present (2023) in the fatalities_shoot_data\n",
    "total_fatalities = fatalities_data.count()[\"Date\"]\n",
    "total_fatalities\n",
    "\n",
    "print(f\"There have been a total of {total_fatalities} shooting fatalities registered in the city of Chicago from 2015 to the present, based on Fatalities Dataset.\")"
   ]
  },
  {
   "cell_type": "code",
   "execution_count": 21,
   "metadata": {},
   "outputs": [
    {
     "data": {
      "text/plain": [
       "60628.0    10\n",
       "60624.0     8\n",
       "60623.0     8\n",
       "60644.0     7\n",
       "60636.0     7\n",
       "60620.0     7\n",
       "60651.0     6\n",
       "60649.0     6\n",
       "60637.0     5\n",
       "60639.0     5\n",
       "60621.0     4\n",
       "60617.0     4\n",
       "60608.0     3\n",
       "60632.0     3\n",
       "60609.0     3\n",
       "60659.0     3\n",
       "60619.0     3\n",
       "60638.0     2\n",
       "60641.0     2\n",
       "60606.0     2\n",
       "60618.0     2\n",
       "60612.0     2\n",
       "60616.0     2\n",
       "60653.0     1\n",
       "60610.0     1\n",
       "68135.0     1\n",
       "60655.0     1\n",
       "60613.0     1\n",
       "60654.0     1\n",
       "60657.0     1\n",
       "60804.0     1\n",
       "60629.0     1\n",
       "60607.0     1\n",
       "60645.0     1\n",
       "Name: Location of death (zip code), dtype: int64"
      ]
     },
     "execution_count": 21,
     "metadata": {},
     "output_type": "execute_result"
    }
   ],
   "source": [
    "# WHAT IS THE ARREST COUNT PER ZIP CODE?\n",
    "total_fatalities_per_zip = fatalities_data[\"Location of death (zip code)\"].value_counts()\n",
    "total_fatalities_per_zip\n",
    "\n",
    "# WHICH 2 DISTRICTS HAVE THE HIGHEST COUNT OF ARRESTS?\n",
    "# print(f\"Districts 11 and 7 have the highest number of arrests in the city of Chicago during 2014-2017.\")"
   ]
  }
 ],
 "metadata": {
  "kernelspec": {
   "display_name": "python_data",
   "language": "python",
   "name": "python3"
  },
  "language_info": {
   "codemirror_mode": {
    "name": "ipython",
    "version": 3
   },
   "file_extension": ".py",
   "mimetype": "text/x-python",
   "name": "python",
   "nbconvert_exporter": "python",
   "pygments_lexer": "ipython3",
   "version": "3.10.9"
  },
  "orig_nbformat": 4
 },
 "nbformat": 4,
 "nbformat_minor": 2
}
