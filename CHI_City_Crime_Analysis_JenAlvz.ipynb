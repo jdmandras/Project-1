{
 "cells": [
  {
   "cell_type": "code",
   "execution_count": 136,
   "metadata": {},
   "outputs": [
    {
     "name": "stdout",
     "output_type": "stream",
     "text": [
      "Requirement already satisfied: matplotlib in c:\\users\\alvar\\anaconda3\\lib\\site-packages (3.7.1)\n",
      "Requirement already satisfied: kiwisolver>=1.0.1 in c:\\users\\alvar\\anaconda3\\lib\\site-packages (from matplotlib) (1.4.4)\n",
      "Requirement already satisfied: numpy>=1.20 in c:\\users\\alvar\\anaconda3\\lib\\site-packages (from matplotlib) (1.24.3)\n",
      "Requirement already satisfied: pyparsing>=2.3.1 in c:\\users\\alvar\\anaconda3\\lib\\site-packages (from matplotlib) (3.0.9)\n",
      "Requirement already satisfied: python-dateutil>=2.7 in c:\\users\\alvar\\anaconda3\\lib\\site-packages (from matplotlib) (2.8.2)\n",
      "Requirement already satisfied: packaging>=20.0 in c:\\users\\alvar\\anaconda3\\lib\\site-packages (from matplotlib) (23.0)\n",
      "Requirement already satisfied: pillow>=6.2.0 in c:\\users\\alvar\\anaconda3\\lib\\site-packages (from matplotlib) (9.4.0)\n",
      "Requirement already satisfied: fonttools>=4.22.0 in c:\\users\\alvar\\anaconda3\\lib\\site-packages (from matplotlib) (4.40.0)\n",
      "Requirement already satisfied: cycler>=0.10 in c:\\users\\alvar\\anaconda3\\lib\\site-packages (from matplotlib) (0.11.0)\n",
      "Requirement already satisfied: contourpy>=1.0.1 in c:\\users\\alvar\\anaconda3\\lib\\site-packages (from matplotlib) (1.1.0)\n",
      "Requirement already satisfied: six>=1.5 in c:\\users\\alvar\\anaconda3\\lib\\site-packages (from python-dateutil>=2.7->matplotlib) (1.16.0)\n",
      "Note: you may need to restart the kernel to use updated packages.\n"
     ]
    }
   ],
   "source": [
    "pip install matplotlib"
   ]
  },
  {
   "cell_type": "code",
   "execution_count": 137,
   "metadata": {},
   "outputs": [],
   "source": [
    "%matplotlib notebook"
   ]
  },
  {
   "cell_type": "code",
   "execution_count": 138,
   "metadata": {},
   "outputs": [],
   "source": [
    "%matplotlib inline"
   ]
  },
  {
   "cell_type": "code",
   "execution_count": 139,
   "metadata": {},
   "outputs": [],
   "source": [
    "# Import Dependencies\n",
    "import pandas as pd\n",
    "from pathlib import Path\n",
    "import csv\n",
    "import matplotlib.pyplot as plt\n",
    "import matplotlib.colors as mcolors\n",
    "# import os\n",
    "\n",
    "# Read file and store as a DataFrame\n",
    "public_arrest_data_to_load = pd.read_csv(\"Resources/PublicReleaseArrestDataUPDATE.csv\")\n",
    "crimes_2015_present_to_load = pd.read_csv(\"Resources/Crimes_2015toPresent.csv\")\n",
    "fatalities_data_to_load = pd.read_csv(\"Resources/Fatal_complete.csv\")\n",
    "\n",
    "public_arrest_data = pd.DataFrame(public_arrest_data_to_load)\n",
    "# public_arrest_data.head()\n",
    "crimes_2015_present = pd.DataFrame(crimes_2015_present_to_load)\n",
    "# crimes_2015_present.head()\n",
    "fatalities_data = pd.DataFrame(fatalities_data_to_load)\n",
    "# fatalities_data.head()\n",
    "\n",
    "\n",
    "# merge datasets \n",
    "# crime_data_complete = pd.merge(fatalities_shoot_data, , how=\"left\", on=[\"Date\"])\n",
    "# crime_data_complete\n",
    "# crime_data_complete.to_csv(\"Crime_data_complete\")\n"
   ]
  },
  {
   "cell_type": "code",
   "execution_count": 140,
   "metadata": {},
   "outputs": [
    {
     "data": {
      "text/html": [
       "<div>\n",
       "<style scoped>\n",
       "    .dataframe tbody tr th:only-of-type {\n",
       "        vertical-align: middle;\n",
       "    }\n",
       "\n",
       "    .dataframe tbody tr th {\n",
       "        vertical-align: top;\n",
       "    }\n",
       "\n",
       "    .dataframe thead th {\n",
       "        text-align: right;\n",
       "    }\n",
       "</style>\n",
       "<table border=\"1\" class=\"dataframe\">\n",
       "  <thead>\n",
       "    <tr style=\"text-align: right;\">\n",
       "      <th></th>\n",
       "      <th>ARR_DISTRICT</th>\n",
       "      <th>ARR_BEAT</th>\n",
       "      <th>ARR_YEAR</th>\n",
       "      <th>ARR_MONTH</th>\n",
       "      <th>RACE_CODE_CD</th>\n",
       "      <th>FBI_CODE</th>\n",
       "      <th>STATUTE</th>\n",
       "      <th>STAT_DESCR</th>\n",
       "      <th>CHARGE_CLASS_CD</th>\n",
       "      <th>CHARGE_TYPE_CD</th>\n",
       "    </tr>\n",
       "  </thead>\n",
       "  <tbody>\n",
       "    <tr>\n",
       "      <th>0</th>\n",
       "      <td>10.0</td>\n",
       "      <td>1033.0</td>\n",
       "      <td>2017</td>\n",
       "      <td>8</td>\n",
       "      <td>BLK</td>\n",
       "      <td>18</td>\n",
       "      <td>720 ILCS 570.0/407-B-1</td>\n",
       "      <td>MFG/DEL COCAINE/SCH/PUB HS/PK</td>\n",
       "      <td>X</td>\n",
       "      <td>F</td>\n",
       "    </tr>\n",
       "    <tr>\n",
       "      <th>1</th>\n",
       "      <td>9.0</td>\n",
       "      <td>923.0</td>\n",
       "      <td>2017</td>\n",
       "      <td>8</td>\n",
       "      <td>WWH</td>\n",
       "      <td>WRT</td>\n",
       "      <td>725 ILCS 225.0/13</td>\n",
       "      <td>FUGITIVE FROM JUSTICE - OUT OF STATE WARRANT</td>\n",
       "      <td>Z</td>\n",
       "      <td>NaN</td>\n",
       "    </tr>\n",
       "  </tbody>\n",
       "</table>\n",
       "</div>"
      ],
      "text/plain": [
       "   ARR_DISTRICT  ARR_BEAT  ARR_YEAR  ARR_MONTH RACE_CODE_CD FBI_CODE  \\\n",
       "0          10.0    1033.0      2017          8          BLK       18   \n",
       "1           9.0     923.0      2017          8          WWH      WRT   \n",
       "\n",
       "                  STATUTE                                    STAT_DESCR  \\\n",
       "0  720 ILCS 570.0/407-B-1                 MFG/DEL COCAINE/SCH/PUB HS/PK   \n",
       "1       725 ILCS 225.0/13  FUGITIVE FROM JUSTICE - OUT OF STATE WARRANT   \n",
       "\n",
       "  CHARGE_CLASS_CD CHARGE_TYPE_CD  \n",
       "0               X              F  \n",
       "1               Z            NaN  "
      ]
     },
     "execution_count": 140,
     "metadata": {},
     "output_type": "execute_result"
    }
   ],
   "source": [
    "#visualizing all datasets\n",
    "public_arrest_data.head(2)"
   ]
  },
  {
   "cell_type": "code",
   "execution_count": 141,
   "metadata": {},
   "outputs": [
    {
     "data": {
      "text/html": [
       "<div>\n",
       "<style scoped>\n",
       "    .dataframe tbody tr th:only-of-type {\n",
       "        vertical-align: middle;\n",
       "    }\n",
       "\n",
       "    .dataframe tbody tr th {\n",
       "        vertical-align: top;\n",
       "    }\n",
       "\n",
       "    .dataframe thead th {\n",
       "        text-align: right;\n",
       "    }\n",
       "</style>\n",
       "<table border=\"1\" class=\"dataframe\">\n",
       "  <thead>\n",
       "    <tr style=\"text-align: right;\">\n",
       "      <th></th>\n",
       "      <th>District</th>\n",
       "      <th>Primary Type</th>\n",
       "      <th>Arrest</th>\n",
       "      <th>Date</th>\n",
       "      <th>IUCR</th>\n",
       "      <th>Description</th>\n",
       "      <th>Location Description</th>\n",
       "      <th>FBI Code</th>\n",
       "      <th>Year</th>\n",
       "      <th>Latitude</th>\n",
       "      <th>Longitude</th>\n",
       "    </tr>\n",
       "  </thead>\n",
       "  <tbody>\n",
       "    <tr>\n",
       "      <th>0</th>\n",
       "      <td>1.0</td>\n",
       "      <td>ARSON</td>\n",
       "      <td>True</td>\n",
       "      <td>10/26/2015 07:06:00 PM</td>\n",
       "      <td>1090</td>\n",
       "      <td>ATTEMPT ARSON</td>\n",
       "      <td>CONSTRUCTION SITE</td>\n",
       "      <td>09</td>\n",
       "      <td>2015</td>\n",
       "      <td>41.885874</td>\n",
       "      <td>-87.625284</td>\n",
       "    </tr>\n",
       "    <tr>\n",
       "      <th>1</th>\n",
       "      <td>6.0</td>\n",
       "      <td>WEAPONS VIOLATION</td>\n",
       "      <td>True</td>\n",
       "      <td>10/09/2018 11:22:00 PM</td>\n",
       "      <td>143A</td>\n",
       "      <td>UNLAWFUL POSS OF HANDGUN</td>\n",
       "      <td>STREET</td>\n",
       "      <td>15</td>\n",
       "      <td>2018</td>\n",
       "      <td>41.750717</td>\n",
       "      <td>-87.638868</td>\n",
       "    </tr>\n",
       "  </tbody>\n",
       "</table>\n",
       "</div>"
      ],
      "text/plain": [
       "   District       Primary Type  Arrest                    Date  IUCR  \\\n",
       "0       1.0              ARSON    True  10/26/2015 07:06:00 PM  1090   \n",
       "1       6.0  WEAPONS VIOLATION    True  10/09/2018 11:22:00 PM  143A   \n",
       "\n",
       "                Description Location Description FBI Code  Year   Latitude  \\\n",
       "0             ATTEMPT ARSON    CONSTRUCTION SITE       09  2015  41.885874   \n",
       "1  UNLAWFUL POSS OF HANDGUN               STREET       15  2018  41.750717   \n",
       "\n",
       "   Longitude  \n",
       "0 -87.625284  \n",
       "1 -87.638868  "
      ]
     },
     "execution_count": 141,
     "metadata": {},
     "output_type": "execute_result"
    }
   ],
   "source": [
    "#vizualizing all datasets\n",
    "crimes_2015_present.head(2)"
   ]
  },
  {
   "cell_type": "code",
   "execution_count": 174,
   "metadata": {},
   "outputs": [
    {
     "data": {
      "text/html": [
       "<div>\n",
       "<style scoped>\n",
       "    .dataframe tbody tr th:only-of-type {\n",
       "        vertical-align: middle;\n",
       "    }\n",
       "\n",
       "    .dataframe tbody tr th {\n",
       "        vertical-align: top;\n",
       "    }\n",
       "\n",
       "    .dataframe thead th {\n",
       "        text-align: right;\n",
       "    }\n",
       "</style>\n",
       "<table border=\"1\" class=\"dataframe\">\n",
       "  <thead>\n",
       "    <tr style=\"text-align: right;\">\n",
       "      <th></th>\n",
       "      <th>Date</th>\n",
       "      <th>Year</th>\n",
       "      <th>Name</th>\n",
       "      <th>Age</th>\n",
       "      <th>Gender</th>\n",
       "      <th>Race</th>\n",
       "      <th>Location of injury (address)</th>\n",
       "      <th>Location of death (city)</th>\n",
       "      <th>State</th>\n",
       "      <th>Location of death (zip code)</th>\n",
       "      <th>Location of death (county)</th>\n",
       "      <th>Full Address</th>\n",
       "      <th>Latitude</th>\n",
       "      <th>Longitude</th>\n",
       "      <th>location_precision</th>\n",
       "      <th>name</th>\n",
       "      <th>age</th>\n",
       "      <th>gender</th>\n",
       "      <th>race</th>\n",
       "      <th>body_camera</th>\n",
       "    </tr>\n",
       "  </thead>\n",
       "  <tbody>\n",
       "    <tr>\n",
       "      <th>0</th>\n",
       "      <td>2/4/2015</td>\n",
       "      <td>2015</td>\n",
       "      <td>Kevin D. Garrett</td>\n",
       "      <td>60.0</td>\n",
       "      <td>Male</td>\n",
       "      <td>African-American/Black</td>\n",
       "      <td>2800 block East 79th Street</td>\n",
       "      <td>Chicago</td>\n",
       "      <td>IL</td>\n",
       "      <td>60649</td>\n",
       "      <td>Cook</td>\n",
       "      <td>2800 block East 79th Street Chicago IL 60649 Cook</td>\n",
       "      <td>41.752070</td>\n",
       "      <td>-87.556710</td>\n",
       "      <td>NaN</td>\n",
       "      <td>NaN</td>\n",
       "      <td>NaN</td>\n",
       "      <td>NaN</td>\n",
       "      <td>NaN</td>\n",
       "      <td>NaN</td>\n",
       "    </tr>\n",
       "    <tr>\n",
       "      <th>1</th>\n",
       "      <td>4/17/2015</td>\n",
       "      <td>2015</td>\n",
       "      <td>Jeffery Kemp</td>\n",
       "      <td>18.0</td>\n",
       "      <td>Male</td>\n",
       "      <td>African-American/Black</td>\n",
       "      <td>74th Street and Merrill Avenue</td>\n",
       "      <td>Chicago</td>\n",
       "      <td>IL</td>\n",
       "      <td>60649</td>\n",
       "      <td>Cook</td>\n",
       "      <td>74th Street and Merrill Avenue Chicago IL 6064...</td>\n",
       "      <td>41.760724</td>\n",
       "      <td>-87.572476</td>\n",
       "      <td>not_available</td>\n",
       "      <td>Jeffrey Kemp</td>\n",
       "      <td>18.0</td>\n",
       "      <td>male</td>\n",
       "      <td>B</td>\n",
       "      <td>False</td>\n",
       "    </tr>\n",
       "  </tbody>\n",
       "</table>\n",
       "</div>"
      ],
      "text/plain": [
       "        Date  Year              Name   Age Gender                    Race  \\\n",
       "0   2/4/2015  2015  Kevin D. Garrett  60.0   Male  African-American/Black   \n",
       "1  4/17/2015  2015      Jeffery Kemp  18.0   Male  African-American/Black   \n",
       "\n",
       "     Location of injury (address) Location of death (city) State  \\\n",
       "0     2800 block East 79th Street                  Chicago    IL   \n",
       "1  74th Street and Merrill Avenue                  Chicago    IL   \n",
       "\n",
       "   Location of death (zip code) Location of death (county)  \\\n",
       "0                         60649                       Cook   \n",
       "1                         60649                       Cook   \n",
       "\n",
       "                                        Full Address   Latitude  Longitude  \\\n",
       "0  2800 block East 79th Street Chicago IL 60649 Cook  41.752070 -87.556710   \n",
       "1  74th Street and Merrill Avenue Chicago IL 6064...  41.760724 -87.572476   \n",
       "\n",
       "  location_precision          name   age gender race body_camera  \n",
       "0                NaN           NaN   NaN    NaN  NaN         NaN  \n",
       "1      not_available  Jeffrey Kemp  18.0   male    B       False  "
      ]
     },
     "execution_count": 174,
     "metadata": {},
     "output_type": "execute_result"
    }
   ],
   "source": [
    "#visualizing all datasets\n",
    "fatalities_data.head(2)"
   ]
  },
  {
   "attachments": {},
   "cell_type": "markdown",
   "metadata": {},
   "source": [
    "## Crime Summary\n",
    "- Exploratory calculations to become familiar with and collect dataset highlights using the crimes_2015_present dataset\n",
    "---------------------------------------------------------"
   ]
  },
  {
   "cell_type": "code",
   "execution_count": 175,
   "metadata": {},
   "outputs": [
    {
     "name": "stdout",
     "output_type": "stream",
     "text": [
      "There have been a total of 532753 crimes registered in Chicago from 2015 to the present.\n"
     ]
    }
   ],
   "source": [
    "# Calculate the total number of unique crime events that happened from 2015 to present (2023)\n",
    "total_crimes_count = crimes_2015_present.count()[\"Date\"]\n",
    "total_crimes_count\n",
    "\n",
    "print(f\"There have been a total of {total_crimes_count} crimes registered in Chicago from 2015 to the present.\")"
   ]
  },
  {
   "cell_type": "code",
   "execution_count": 176,
   "metadata": {},
   "outputs": [
    {
     "data": {
      "text/plain": [
       "THEFT              133938\n",
       "BATTERY             88872\n",
       "NARCOTICS           57647\n",
       "CRIMINAL DAMAGE     37204\n",
       "OTHER OFFENSE       35391\n",
       "Name: Primary Type, dtype: int64"
      ]
     },
     "execution_count": 176,
     "metadata": {},
     "output_type": "execute_result"
    }
   ],
   "source": [
    "# Select all of the different crime description types\n",
    "crime_primary_types = crimes_2015_present[\"Primary Type\"].value_counts()\n",
    "crime_primary_types.head()"
   ]
  },
  {
   "cell_type": "code",
   "execution_count": 177,
   "metadata": {},
   "outputs": [
    {
     "data": {
      "text/plain": [
       "STREET                            125128\n",
       "RESIDENCE                          65914\n",
       "APARTMENT                          59620\n",
       "SIDEWALK                           55908\n",
       "OTHER                              19720\n",
       "PARKING LOT/GARAGE(NON.RESID.)     15800\n",
       "SMALL RETAIL STORE                 15200\n",
       "RESTAURANT                         13223\n",
       "DEPARTMENT STORE                   12865\n",
       "ALLEY                              12622\n",
       "Name: Location Description, dtype: int64"
      ]
     },
     "execution_count": 177,
     "metadata": {},
     "output_type": "execute_result"
    }
   ],
   "source": [
    "# Select all of the different Location description types\n",
    "location_description_types = crimes_2015_present[\"Location Description\"].value_counts()\n",
    "location_description_types.head(10)"
   ]
  },
  {
   "cell_type": "code",
   "execution_count": 178,
   "metadata": {},
   "outputs": [
    {
     "data": {
      "text/plain": [
       "25.0    57332\n",
       "12.0    54080\n",
       "19.0    48723\n",
       "18.0    43753\n",
       "11.0    42273\n",
       "15.0    41019\n",
       "14.0    39289\n",
       "24.0    23799\n",
       "22.0    20444\n",
       "20.0    18515\n",
       "16.0    16500\n",
       "6.0     15806\n",
       "7.0     15426\n",
       "10.0    14743\n",
       "4.0     13049\n",
       "5.0     11768\n",
       "8.0     11684\n",
       "1.0     10254\n",
       "9.0     10096\n",
       "3.0      9806\n",
       "2.0      7247\n",
       "17.0     7120\n",
       "31.0       27\n",
       "Name: District, dtype: int64"
      ]
     },
     "execution_count": 178,
     "metadata": {},
     "output_type": "execute_result"
    }
   ],
   "source": [
    "# Select all of the different Districts\n",
    "districts = crimes_2015_present[\"District\"].value_counts()\n",
    "districts.head(50)"
   ]
  },
  {
   "cell_type": "code",
   "execution_count": 179,
   "metadata": {},
   "outputs": [
    {
     "data": {
      "text/plain": [
       "06     133938\n",
       "08B     76972\n",
       "18      57460\n",
       "26      55618\n",
       "Name: FBI Code, dtype: int64"
      ]
     },
     "execution_count": 179,
     "metadata": {},
     "output_type": "execute_result"
    }
   ],
   "source": [
    "# Select all of the different FBI Codes\n",
    "FBI_codes = crimes_2015_present[\"FBI Code\"].value_counts()\n",
    "FBI_codes.head(4)"
   ]
  },
  {
   "cell_type": "code",
   "execution_count": 180,
   "metadata": {},
   "outputs": [
    {
     "data": {
      "text/plain": [
       "0          1.0\n",
       "1          6.0\n",
       "2          6.0\n",
       "3          6.0\n",
       "4          6.0\n",
       "          ... \n",
       "532748    16.0\n",
       "532749    16.0\n",
       "532750    16.0\n",
       "532751    16.0\n",
       "532752    16.0\n",
       "Name: District, Length: 532753, dtype: float64"
      ]
     },
     "execution_count": 180,
     "metadata": {},
     "output_type": "execute_result"
    }
   ],
   "source": [
    "# Calaculate the top crimes committed per district\n",
    "crimes_2015_present[\"District\"]"
   ]
  },
  {
   "attachments": {},
   "cell_type": "markdown",
   "metadata": {},
   "source": [
    "## Demographic Summary - Arrest Data\n",
    "- Collect dataset highlights using public_arrest_data\n",
    "- Years 2015 - 2017\n",
    "----------------------------------------------------\n"
   ]
  },
  {
   "cell_type": "code",
   "execution_count": 149,
   "metadata": {},
   "outputs": [
    {
     "name": "stdout",
     "output_type": "stream",
     "text": [
      "There have been a total of 410682 crimes registered in Chicago from 2014 to 2017, based on Public Release Arrest Dataset.\n"
     ]
    }
   ],
   "source": [
    "# Calculate the total number of unique crime events that took place from 2014-2017 in the public_arrest_data dataset\n",
    "total_crimes_public_arr_count = public_arrest_data.count()[\"ARR_YEAR\"]\n",
    "total_crimes_public_arr_count\n",
    "\n",
    "print(f\"There have been a total of {total_crimes_public_arr_count} crimes registered in Chicago from 2014 to 2017, based on Public Release Arrest Dataset.\")"
   ]
  },
  {
   "cell_type": "code",
   "execution_count": 150,
   "metadata": {},
   "outputs": [
    {
     "name": "stdout",
     "output_type": "stream",
     "text": [
      "Districts 11 and 7 have the highest number of arrests in the city of Chicago during 2014-2017.\n"
     ]
    }
   ],
   "source": [
    "# WHAT IS THE ARREST COUNT PER DISTRICT?\n",
    "total_arrests_per_distrct = public_arrest_data[\"ARR_DISTRICT\"].value_counts()\n",
    "total_arrests_per_distrct.head(2)\n",
    "\n",
    "# WHICH 2 DISTRICTS HAVE THE HIGHEST COUNT OF ARRESTS?\n",
    "print(f\"Districts 11 and 7 have the highest number of arrests in the city of Chicago during 2014-2017.\")"
   ]
  },
  {
   "cell_type": "code",
   "execution_count": 151,
   "metadata": {},
   "outputs": [
    {
     "name": "stdout",
     "output_type": "stream",
     "text": [
      "Districts 17 and 20 have the lowest number of arrests in the city of Chicago during 2014-2017.\n"
     ]
    }
   ],
   "source": [
    "# WHICH 2 DISTRICTS HAVE THE LOWEST COUNT OF ARRESTS?\n",
    "total_arrests_per_distrct = public_arrest_data[\"ARR_DISTRICT\"].value_counts()\n",
    "total_arrests_per_distrct.tail(2)\n",
    "print(f\"Districts 17 and 20 have the lowest number of arrests in the city of Chicago during 2014-2017.\")"
   ]
  },
  {
   "cell_type": "code",
   "execution_count": 152,
   "metadata": {},
   "outputs": [
    {
     "data": {
      "text/plain": [
       "ARR_YEAR\n",
       "2014    128603\n",
       "2015    112574\n",
       "2016     85805\n",
       "2017     83700\n",
       "dtype: int64"
      ]
     },
     "execution_count": 152,
     "metadata": {},
     "output_type": "execute_result"
    }
   ],
   "source": [
    "# WHAT IS THE TOTAL ARREST COUNT, PER RACE?\n",
    "total_arrests_per_race = public_arrest_data[public_arrest_data['RACE_CODE_CD'].notnull() ].groupby('ARR_YEAR').size()\n",
    "total_arrests_per_race\n"
   ]
  },
  {
   "cell_type": "code",
   "execution_count": 153,
   "metadata": {},
   "outputs": [
    {
     "data": {
      "text/plain": [
       "RACE_CODE_CD\n",
       "API      2375\n",
       "BLK    298318\n",
       "I         293\n",
       "U         635\n",
       "WBH      2417\n",
       "WHI     34647\n",
       "WWH     71997\n",
       "dtype: int64"
      ]
     },
     "execution_count": 153,
     "metadata": {},
     "output_type": "execute_result"
    }
   ],
   "source": [
    "#count the number of arrests by race\n",
    "total_arrests_by_race = public_arrest_data.groupby('RACE_CODE_CD').size()\n",
    "total_arrests_by_race"
   ]
  },
  {
   "cell_type": "code",
   "execution_count": 154,
   "metadata": {},
   "outputs": [
    {
     "data": {
      "text/plain": [
       "<function matplotlib.pyplot.show(close=None, block=None)>"
      ]
     },
     "execution_count": 154,
     "metadata": {},
     "output_type": "execute_result"
    },
    {
     "data": {
      "image/png": "[encoded data removed]",
      "text/plain": [
       "<Figure size 640x480 with 1 Axes>"
      ]
     },
     "metadata": {},
     "output_type": "display_data"
    }
   ],
   "source": [
    "#plot the number of arrests by race\n",
    "total_arrests_by_race.plot(kind='bar', color= 'g', alpha=0.5, align=\"edge\")\n",
    "plt.xticks(rotation=45)\n",
    "plt.xlabel(\"Race\")\n",
    "plt.ylabel(\"Total Arrests Made\")\n",
    "plt.legend('Race Group', loc='best')\n",
    "plt.title(\"Total Arrests Made in Chicago From 2014-2017, By Race\")\n",
    "plt.show"
   ]
  },
  {
   "attachments": {},
   "cell_type": "markdown",
   "metadata": {},
   "source": [
    "## Demographic Summary - Fatalities Data\n",
    "- Collect dataset highlights using fatalities_data\n",
    "- Years 2015-2023\n",
    "---------------------------------------------------------------------"
   ]
  },
  {
   "cell_type": "code",
   "execution_count": 155,
   "metadata": {},
   "outputs": [
    {
     "data": {
      "text/plain": [
       "115"
      ]
     },
     "execution_count": 155,
     "metadata": {},
     "output_type": "execute_result"
    }
   ],
   "source": [
    "# Calculate the total number of unique shooting fatality events that took place from 2015 to present (2023) in the fatalities_shoot_data\n",
    "total_fatalities = fatalities_data.count()[\"Date\"]\n",
    "total_fatalities\n"
   ]
  },
  {
   "cell_type": "code",
   "execution_count": 156,
   "metadata": {},
   "outputs": [
    {
     "name": "stdout",
     "output_type": "stream",
     "text": [
      "There have been a total of 115 shooting fatalities registered in the city of Chicago from 2015 to the present, based on Fatalities Dataset.\n"
     ]
    }
   ],
   "source": [
    "print(f\"There have been a total of {total_fatalities} shooting fatalities registered in the city of Chicago from 2015 to the present, based on Fatalities Dataset.\")"
   ]
  },
  {
   "cell_type": "code",
   "execution_count": 157,
   "metadata": {},
   "outputs": [
    {
     "data": {
      "text/plain": [
       "60628    10\n",
       "60624     8\n",
       "60623     8\n",
       "60644     7\n",
       "60636     7\n",
       "Name: Location of death (zip code), dtype: int64"
      ]
     },
     "execution_count": 157,
     "metadata": {},
     "output_type": "execute_result"
    }
   ],
   "source": [
    "# WHAT IS THE ARREST COUNT PER ZIP CODE?\n",
    "total_fatalities_per_zip = fatalities_data[\"Location of death (zip code)\"].value_counts()\n",
    "total_fatalities_per_zip.head()\n"
   ]
  },
  {
   "cell_type": "code",
   "execution_count": 158,
   "metadata": {},
   "outputs": [
    {
     "name": "stdout",
     "output_type": "stream",
     "text": [
      "Zip codes 60628, 60624, 60623, 60644, and 60636 have the highest number of arrests in the city of Chicago during 2015-2021 based on Fatalities Dataset.\n"
     ]
    }
   ],
   "source": [
    "# WHICH 5 ZIP CODES HAVE THE HIGHEST COUNT OF ARRESTS?\n",
    "print(f\"Zip codes 60628, 60624, 60623, 60644, and 60636 have the highest number of arrests in the city of Chicago during 2015-2021 based on Fatalities Dataset.\")"
   ]
  },
  {
   "attachments": {},
   "cell_type": "markdown",
   "metadata": {},
   "source": [
    "## Demographics Summary - Yearly Fatalities by Race"
   ]
  },
  {
   "cell_type": "code",
   "execution_count": 159,
   "metadata": {},
   "outputs": [
    {
     "data": {
      "text/plain": [
       "Year\n",
       "2015    14\n",
       "2016    13\n",
       "2017    11\n",
       "2018    10\n",
       "2019    12\n",
       "2020     9\n",
       "2021     6\n",
       "dtype: int64"
      ]
     },
     "execution_count": 159,
     "metadata": {},
     "output_type": "execute_result"
    }
   ],
   "source": [
    "# WHAT IS THE FATALITY COUNT PER YEAR, BY RACE?\n",
    "# African-American/Black\n",
    "total_AA_fatalities_year = fatalities_data[fatalities_data['Race'] == 'African-American/Black'].groupby('Year').size()\n",
    "total_AA_fatalities_year"
   ]
  },
  {
   "cell_type": "code",
   "execution_count": 160,
   "metadata": {},
   "outputs": [
    {
     "data": {
      "text/plain": [
       "Year\n",
       "2020    1\n",
       "dtype: int64"
      ]
     },
     "execution_count": 160,
     "metadata": {},
     "output_type": "execute_result"
    }
   ],
   "source": [
    "# WHAT IS THE FATALITY COUNT PER YEAR, BY RACE?\n",
    "# Asian/Pacific Islander\n",
    "total_API_fatalities_year = fatalities_data[fatalities_data['Race'] == 'Asian/Pacific Islander'].groupby('Year').size()\n",
    "total_API_fatalities_year"
   ]
  },
  {
   "cell_type": "code",
   "execution_count": 161,
   "metadata": {},
   "outputs": [
    {
     "data": {
      "text/plain": [
       "Year\n",
       "2016    1\n",
       "2017    1\n",
       "2018    3\n",
       "2021    1\n",
       "dtype: int64"
      ]
     },
     "execution_count": 161,
     "metadata": {},
     "output_type": "execute_result"
    }
   ],
   "source": [
    "# WHAT IS THE FATALITY COUNT PER YEAR, BY RACE?\n",
    "# European-American/White\n",
    "total_WH_fatalities_year = fatalities_data[fatalities_data['Race'] == 'European-American/White'].groupby('Year').size()\n",
    "total_WH_fatalities_year"
   ]
  },
  {
   "cell_type": "code",
   "execution_count": 162,
   "metadata": {},
   "outputs": [
    {
     "data": {
      "text/plain": [
       "Year\n",
       "2015    3\n",
       "2017    3\n",
       "2018    1\n",
       "2020    5\n",
       "2021    4\n",
       "dtype: int64"
      ]
     },
     "execution_count": 162,
     "metadata": {},
     "output_type": "execute_result"
    }
   ],
   "source": [
    "# WHAT IS THE FATALITY COUNT PER YEAR, BY RACE?\n",
    "# Hispanic/Latino\n",
    "total_HIS_fatalities_year = fatalities_data[fatalities_data['Race'] == 'Hispanic/Latino'].groupby('Year').size()\n",
    "total_HIS_fatalities_year"
   ]
  },
  {
   "cell_type": "code",
   "execution_count": 163,
   "metadata": {},
   "outputs": [
    {
     "data": {
      "text/plain": [
       "Year\n",
       "2019    1\n",
       "dtype: int64"
      ]
     },
     "execution_count": 163,
     "metadata": {},
     "output_type": "execute_result"
    }
   ],
   "source": [
    "# WHAT IS THE FATALITY COUNT PER YEAR, BY RACE?\n",
    "# Middle Eastern\n",
    "total_MIDE_fatalities_year = fatalities_data[fatalities_data['Race'] == 'Middle Eastern'].groupby('Year').size()\n",
    "total_MIDE_fatalities_year"
   ]
  },
  {
   "cell_type": "code",
   "execution_count": 164,
   "metadata": {},
   "outputs": [
    {
     "data": {
      "text/plain": [
       "Year\n",
       "2016    2\n",
       "2017    3\n",
       "2018    1\n",
       "2019    3\n",
       "2020    6\n",
       "2021    1\n",
       "dtype: int64"
      ]
     },
     "execution_count": 164,
     "metadata": {},
     "output_type": "execute_result"
    }
   ],
   "source": [
    "# WHAT IS THE FATALITY COUNT PER YEAR, BY RACE?\n",
    "# Race Unspecified\n",
    "total_UNS_fatalities_year = fatalities_data[fatalities_data['Race'] == 'Race unspecified'].groupby('Year').size()\n",
    "total_UNS_fatalities_year"
   ]
  },
  {
   "cell_type": "code",
   "execution_count": 165,
   "metadata": {},
   "outputs": [
    {
     "data": {
      "text/html": [
       "<div>\n",
       "<style scoped>\n",
       "    .dataframe tbody tr th:only-of-type {\n",
       "        vertical-align: middle;\n",
       "    }\n",
       "\n",
       "    .dataframe tbody tr th {\n",
       "        vertical-align: top;\n",
       "    }\n",
       "\n",
       "    .dataframe thead th {\n",
       "        text-align: right;\n",
       "    }\n",
       "</style>\n",
       "<table border=\"1\" class=\"dataframe\">\n",
       "  <thead>\n",
       "    <tr style=\"text-align: right;\">\n",
       "      <th></th>\n",
       "      <th>African-American/Black</th>\n",
       "      <th>Asian/Pacific Islander</th>\n",
       "      <th>European-American/White</th>\n",
       "      <th>Hispanic/Latino</th>\n",
       "      <th>Middle Eastern</th>\n",
       "      <th>Race unspecified</th>\n",
       "    </tr>\n",
       "    <tr>\n",
       "      <th>Year</th>\n",
       "      <th></th>\n",
       "      <th></th>\n",
       "      <th></th>\n",
       "      <th></th>\n",
       "      <th></th>\n",
       "      <th></th>\n",
       "    </tr>\n",
       "  </thead>\n",
       "  <tbody>\n",
       "    <tr>\n",
       "      <th>2015</th>\n",
       "      <td>14</td>\n",
       "      <td>NaN</td>\n",
       "      <td>NaN</td>\n",
       "      <td>3.0</td>\n",
       "      <td>NaN</td>\n",
       "      <td>NaN</td>\n",
       "    </tr>\n",
       "    <tr>\n",
       "      <th>2016</th>\n",
       "      <td>13</td>\n",
       "      <td>NaN</td>\n",
       "      <td>1.0</td>\n",
       "      <td>NaN</td>\n",
       "      <td>NaN</td>\n",
       "      <td>2.0</td>\n",
       "    </tr>\n",
       "    <tr>\n",
       "      <th>2017</th>\n",
       "      <td>11</td>\n",
       "      <td>NaN</td>\n",
       "      <td>1.0</td>\n",
       "      <td>3.0</td>\n",
       "      <td>NaN</td>\n",
       "      <td>3.0</td>\n",
       "    </tr>\n",
       "    <tr>\n",
       "      <th>2018</th>\n",
       "      <td>10</td>\n",
       "      <td>NaN</td>\n",
       "      <td>3.0</td>\n",
       "      <td>1.0</td>\n",
       "      <td>NaN</td>\n",
       "      <td>1.0</td>\n",
       "    </tr>\n",
       "    <tr>\n",
       "      <th>2019</th>\n",
       "      <td>12</td>\n",
       "      <td>NaN</td>\n",
       "      <td>NaN</td>\n",
       "      <td>NaN</td>\n",
       "      <td>1.0</td>\n",
       "      <td>3.0</td>\n",
       "    </tr>\n",
       "    <tr>\n",
       "      <th>2020</th>\n",
       "      <td>9</td>\n",
       "      <td>1.0</td>\n",
       "      <td>NaN</td>\n",
       "      <td>5.0</td>\n",
       "      <td>NaN</td>\n",
       "      <td>6.0</td>\n",
       "    </tr>\n",
       "    <tr>\n",
       "      <th>2021</th>\n",
       "      <td>6</td>\n",
       "      <td>NaN</td>\n",
       "      <td>1.0</td>\n",
       "      <td>4.0</td>\n",
       "      <td>NaN</td>\n",
       "      <td>1.0</td>\n",
       "    </tr>\n",
       "  </tbody>\n",
       "</table>\n",
       "</div>"
      ],
      "text/plain": [
       "      African-American/Black  Asian/Pacific Islander  European-American/White  \\\n",
       "Year                                                                            \n",
       "2015                      14                     NaN                      NaN   \n",
       "2016                      13                     NaN                      1.0   \n",
       "2017                      11                     NaN                      1.0   \n",
       "2018                      10                     NaN                      3.0   \n",
       "2019                      12                     NaN                      NaN   \n",
       "2020                       9                     1.0                      NaN   \n",
       "2021                       6                     NaN                      1.0   \n",
       "\n",
       "      Hispanic/Latino  Middle Eastern  Race unspecified  \n",
       "Year                                                     \n",
       "2015              3.0             NaN               NaN  \n",
       "2016              NaN             NaN               2.0  \n",
       "2017              3.0             NaN               3.0  \n",
       "2018              1.0             NaN               1.0  \n",
       "2019              NaN             1.0               3.0  \n",
       "2020              5.0             NaN               6.0  \n",
       "2021              4.0             NaN               1.0  "
      ]
     },
     "execution_count": 165,
     "metadata": {},
     "output_type": "execute_result"
    }
   ],
   "source": [
    "#Create a dataframe containing fatilities per race by year\n",
    "all_races_fatalities = pd.DataFrame({\n",
    "    \"African-American/Black\": total_AA_fatalities_year,\n",
    "    \"Asian/Pacific Islander\": total_API_fatalities_year,\n",
    "    \"European-American/White\": total_WH_fatalities_year,\n",
    "    \"Hispanic/Latino\": total_HIS_fatalities_year,\n",
    "    \"Middle Eastern\": total_MIDE_fatalities_year,\n",
    "    \"Race unspecified\": total_UNS_fatalities_year\n",
    "})\n",
    "\n",
    "all_races_fatalities"
   ]
  },
  {
   "cell_type": "code",
   "execution_count": 166,
   "metadata": {},
   "outputs": [
    {
     "data": {
      "image/png": "[encoded data removed]",
      "text/plain": [
       "<Figure size 640x480 with 1 Axes>"
      ]
     },
     "metadata": {},
     "output_type": "display_data"
    }
   ],
   "source": [
    "#plot a stacked bar chart uning matplotlib\n",
    "all_races_fatalities.plot(kind='bar', stacked=True, title='Fatalities By Year, Per Race Group')\n",
    "plt.xlabel(\"Year\")\n",
    "plt.xticks(rotation = 45)\n",
    "plt.ylabel(\"# Fatalities\")\n",
    "plt.legend(loc = 'best')\n",
    "# plt.grid()\n",
    "# plt.savefig(\"Visualizations/fatalities_year_byrace.png\")\n",
    "plt.show()"
   ]
  },
  {
   "attachments": {},
   "cell_type": "markdown",
   "metadata": {},
   "source": [
    "## Zip Code - Top Zip Code Fatalities, by Zip\n",
    "* For Top Fatality Occurence Zip codes 60628, 60624, 60623, 60644, and 60636"
   ]
  },
  {
   "cell_type": "code",
   "execution_count": 167,
   "metadata": {},
   "outputs": [
    {
     "data": {
      "text/plain": [
       "Year\n",
       "2015    1\n",
       "2016    3\n",
       "2017    2\n",
       "2019    2\n",
       "2020    2\n",
       "dtype: int64"
      ]
     },
     "execution_count": 167,
     "metadata": {},
     "output_type": "execute_result"
    }
   ],
   "source": [
    "# WHAT IS THE FATALITY COUNT PER YEAR, BY ZIP?\n",
    "# Zip 60628\n",
    "total_60628_fatalities_year = fatalities_data[fatalities_data['Location of death (zip code)'] == 60628].groupby('Year').size()\n",
    "total_60628_fatalities_year"
   ]
  },
  {
   "cell_type": "code",
   "execution_count": 168,
   "metadata": {},
   "outputs": [
    {
     "data": {
      "text/plain": [
       "Year\n",
       "2015    1\n",
       "2016    3\n",
       "2017    3\n",
       "2020    1\n",
       "dtype: int64"
      ]
     },
     "execution_count": 168,
     "metadata": {},
     "output_type": "execute_result"
    }
   ],
   "source": [
    "# WHAT IS THE FATALITY COUNT PER YEAR, BY ZIP?\n",
    "# Zip 60624\n",
    "total_60624_fatalities_year = fatalities_data[fatalities_data['Location of death (zip code)'] == 60624].groupby('Year').size()\n",
    "total_60624_fatalities_year"
   ]
  },
  {
   "cell_type": "code",
   "execution_count": 169,
   "metadata": {},
   "outputs": [
    {
     "data": {
      "text/plain": [
       "Year\n",
       "2017    2\n",
       "2018    1\n",
       "2019    2\n",
       "2020    2\n",
       "2021    1\n",
       "dtype: int64"
      ]
     },
     "execution_count": 169,
     "metadata": {},
     "output_type": "execute_result"
    }
   ],
   "source": [
    "# WHAT IS THE FATALITY COUNT PER YEAR, BY ZIP?\n",
    "# Zip 60623\n",
    "total_60623_fatalities_year = fatalities_data[fatalities_data['Location of death (zip code)'] == 60623].groupby('Year').size()\n",
    "total_60623_fatalities_year"
   ]
  },
  {
   "cell_type": "code",
   "execution_count": 170,
   "metadata": {},
   "outputs": [
    {
     "data": {
      "text/plain": [
       "Year\n",
       "2015    4\n",
       "2018    2\n",
       "2021    1\n",
       "dtype: int64"
      ]
     },
     "execution_count": 170,
     "metadata": {},
     "output_type": "execute_result"
    }
   ],
   "source": [
    "# WHAT IS THE FATALITY COUNT PER YEAR, BY ZIP?\n",
    "# Zip 60644\n",
    "total_60644_fatalities_year = fatalities_data[fatalities_data['Location of death (zip code)'] == 60644].groupby('Year').size()\n",
    "total_60644_fatalities_year"
   ]
  },
  {
   "cell_type": "code",
   "execution_count": 171,
   "metadata": {},
   "outputs": [
    {
     "data": {
      "text/plain": [
       "Year\n",
       "2016    3\n",
       "2018    3\n",
       "2021    1\n",
       "dtype: int64"
      ]
     },
     "execution_count": 171,
     "metadata": {},
     "output_type": "execute_result"
    }
   ],
   "source": [
    "# WHAT IS THE FATALITY COUNT PER YEAR, BY ZIP?\n",
    "# Zip 60636\n",
    "total_60636_fatalities_year = fatalities_data[fatalities_data['Location of death (zip code)'] == 60636].groupby('Year').size()\n",
    "total_60636_fatalities_year"
   ]
  },
  {
   "cell_type": "code",
   "execution_count": 172,
   "metadata": {},
   "outputs": [
    {
     "data": {
      "text/html": [
       "<div>\n",
       "<style scoped>\n",
       "    .dataframe tbody tr th:only-of-type {\n",
       "        vertical-align: middle;\n",
       "    }\n",
       "\n",
       "    .dataframe tbody tr th {\n",
       "        vertical-align: top;\n",
       "    }\n",
       "\n",
       "    .dataframe thead th {\n",
       "        text-align: right;\n",
       "    }\n",
       "</style>\n",
       "<table border=\"1\" class=\"dataframe\">\n",
       "  <thead>\n",
       "    <tr style=\"text-align: right;\">\n",
       "      <th></th>\n",
       "      <th>60628</th>\n",
       "      <th>60624</th>\n",
       "      <th>60623</th>\n",
       "      <th>60644</th>\n",
       "      <th>60636</th>\n",
       "    </tr>\n",
       "    <tr>\n",
       "      <th>Year</th>\n",
       "      <th></th>\n",
       "      <th></th>\n",
       "      <th></th>\n",
       "      <th></th>\n",
       "      <th></th>\n",
       "    </tr>\n",
       "  </thead>\n",
       "  <tbody>\n",
       "    <tr>\n",
       "      <th>2015</th>\n",
       "      <td>1.0</td>\n",
       "      <td>1.0</td>\n",
       "      <td>NaN</td>\n",
       "      <td>4.0</td>\n",
       "      <td>NaN</td>\n",
       "    </tr>\n",
       "    <tr>\n",
       "      <th>2016</th>\n",
       "      <td>3.0</td>\n",
       "      <td>3.0</td>\n",
       "      <td>NaN</td>\n",
       "      <td>NaN</td>\n",
       "      <td>3.0</td>\n",
       "    </tr>\n",
       "    <tr>\n",
       "      <th>2017</th>\n",
       "      <td>2.0</td>\n",
       "      <td>3.0</td>\n",
       "      <td>2.0</td>\n",
       "      <td>NaN</td>\n",
       "      <td>NaN</td>\n",
       "    </tr>\n",
       "    <tr>\n",
       "      <th>2018</th>\n",
       "      <td>NaN</td>\n",
       "      <td>NaN</td>\n",
       "      <td>1.0</td>\n",
       "      <td>2.0</td>\n",
       "      <td>3.0</td>\n",
       "    </tr>\n",
       "    <tr>\n",
       "      <th>2019</th>\n",
       "      <td>2.0</td>\n",
       "      <td>NaN</td>\n",
       "      <td>2.0</td>\n",
       "      <td>NaN</td>\n",
       "      <td>NaN</td>\n",
       "    </tr>\n",
       "    <tr>\n",
       "      <th>2020</th>\n",
       "      <td>2.0</td>\n",
       "      <td>1.0</td>\n",
       "      <td>2.0</td>\n",
       "      <td>NaN</td>\n",
       "      <td>NaN</td>\n",
       "    </tr>\n",
       "    <tr>\n",
       "      <th>2021</th>\n",
       "      <td>NaN</td>\n",
       "      <td>NaN</td>\n",
       "      <td>1.0</td>\n",
       "      <td>1.0</td>\n",
       "      <td>1.0</td>\n",
       "    </tr>\n",
       "  </tbody>\n",
       "</table>\n",
       "</div>"
      ],
      "text/plain": [
       "      60628  60624  60623  60644  60636\n",
       "Year                                   \n",
       "2015    1.0    1.0    NaN    4.0    NaN\n",
       "2016    3.0    3.0    NaN    NaN    3.0\n",
       "2017    2.0    3.0    2.0    NaN    NaN\n",
       "2018    NaN    NaN    1.0    2.0    3.0\n",
       "2019    2.0    NaN    2.0    NaN    NaN\n",
       "2020    2.0    1.0    2.0    NaN    NaN\n",
       "2021    NaN    NaN    1.0    1.0    1.0"
      ]
     },
     "execution_count": 172,
     "metadata": {},
     "output_type": "execute_result"
    }
   ],
   "source": [
    "#Create a dataframe containing fatilities per zip code by year\n",
    "all_zip_fatalities = pd.DataFrame({\n",
    "    \"60628\": total_60628_fatalities_year, \n",
    "    \"60624\": total_60624_fatalities_year, \n",
    "    \"60623\": total_60623_fatalities_year, \n",
    "    \"60644\": total_60644_fatalities_year,\n",
    "    \"60636\": total_60636_fatalities_year\n",
    "})\n",
    "\n",
    "all_zip_fatalities"
   ]
  },
  {
   "cell_type": "code",
   "execution_count": 173,
   "metadata": {},
   "outputs": [
    {
     "data": {
      "image/png": "[encoded data removed]",
      "text/plain": [
       "<Figure size 640x480 with 1 Axes>"
      ]
     },
     "metadata": {},
     "output_type": "display_data"
    }
   ],
   "source": [
    "#plot a stacked bar chart using matplotlib\n",
    "all_zip_fatalities.plot(kind='bar', stacked=True, title='Yearly Fatalities: Top 5 Chicago Zip Codes (2015-2021)')\n",
    "plt.xlabel(\"Zip Code\")\n",
    "plt.xticks(rotation= 45)\n",
    "plt.ylabel(\"# Fatalities\")\n",
    "plt.legend(loc = 'best')\n",
    "# plt.grid()\n",
    "# plt.savefig(\"Visualizations/fatalities_year_byrace.png\")\n",
    "plt.show()"
   ]
  }
 ],
 "metadata": {
  "kernelspec": {
   "display_name": "python_data",
   "language": "python",
   "name": "python3"
  },
  "language_info": {
   "codemirror_mode": {
    "name": "ipython",
    "version": 3
   },
   "file_extension": ".py",
   "mimetype": "text/x-python",
   "name": "python",
   "nbconvert_exporter": "python",
   "pygments_lexer": "ipython3",
   "version": "3.10.9"
  },
  "orig_nbformat": 4
 },
 "nbformat": 4,
 "nbformat_minor": 2
}
