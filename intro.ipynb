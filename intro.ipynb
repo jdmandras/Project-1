{
 "cells": [
  {
   "attachments": {},
   "cell_type": "markdown",
   "metadata": {},
   "source": [
    "How many arrests were made last year?\n",
    "How many fatal shootings was done last year? \n",
    "What ethnicity was killed the most by the police?\n",
    "What ethnicity kills the most police?\n",
    "What is the cause of the fatal shooting?\n",
    "How can we lower the shootings?\n",
    "\n",
    "\n",
    "\n",
    "Where do the shootings take place?\n",
    "\n",
    "How many bullets are fired?"
   ]
  }
 ],
 "metadata": {
  "language_info": {
   "name": "python"
  },
  "orig_nbformat": 4
 },
 "nbformat": 4,
 "nbformat_minor": 2
}
