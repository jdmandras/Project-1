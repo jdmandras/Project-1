{
 "cells": [
  {
   "attachments": {},
   "cell_type": "markdown",
   "metadata": {},
   "source": []
  },
  {
   "cell_type": "code",
   "execution_count": 7,
   "metadata": {},
   "outputs": [],
   "source": [
    "#import \n",
    "import pandas as pd\n",
    "import matplotlib.pyplot as plt"
   ]
  },
  {
   "cell_type": "code",
   "execution_count": 8,
   "metadata": {},
   "outputs": [
    {
     "data": {
      "text/html": [
       "<div>\n",
       "<style scoped>\n",
       "    .dataframe tbody tr th:only-of-type {\n",
       "        vertical-align: middle;\n",
       "    }\n",
       "\n",
       "    .dataframe tbody tr th {\n",
       "        vertical-align: top;\n",
       "    }\n",
       "\n",
       "    .dataframe thead th {\n",
       "        text-align: right;\n",
       "    }\n",
       "</style>\n",
       "<table border=\"1\" class=\"dataframe\">\n",
       "  <thead>\n",
       "    <tr style=\"text-align: right;\">\n",
       "      <th></th>\n",
       "      <th>District</th>\n",
       "      <th>Primary Type</th>\n",
       "      <th>Arrest</th>\n",
       "      <th>Date</th>\n",
       "      <th>IUCR</th>\n",
       "      <th>Description</th>\n",
       "      <th>Location Description</th>\n",
       "      <th>FBI Code</th>\n",
       "      <th>Year</th>\n",
       "      <th>Latitude</th>\n",
       "      <th>Longitude</th>\n",
       "    </tr>\n",
       "  </thead>\n",
       "  <tbody>\n",
       "    <tr>\n",
       "      <th>0</th>\n",
       "      <td>1.0</td>\n",
       "      <td>ARSON</td>\n",
       "      <td>True</td>\n",
       "      <td>10/26/2015 07:06:00 PM</td>\n",
       "      <td>1090</td>\n",
       "      <td>ATTEMPT ARSON</td>\n",
       "      <td>CONSTRUCTION SITE</td>\n",
       "      <td>09</td>\n",
       "      <td>2015</td>\n",
       "      <td>41.885874</td>\n",
       "      <td>-87.625284</td>\n",
       "    </tr>\n",
       "    <tr>\n",
       "      <th>1</th>\n",
       "      <td>6.0</td>\n",
       "      <td>WEAPONS VIOLATION</td>\n",
       "      <td>True</td>\n",
       "      <td>10/09/2018 11:22:00 PM</td>\n",
       "      <td>143A</td>\n",
       "      <td>UNLAWFUL POSS OF HANDGUN</td>\n",
       "      <td>STREET</td>\n",
       "      <td>15</td>\n",
       "      <td>2018</td>\n",
       "      <td>41.750717</td>\n",
       "      <td>-87.638868</td>\n",
       "    </tr>\n",
       "    <tr>\n",
       "      <th>2</th>\n",
       "      <td>6.0</td>\n",
       "      <td>WEAPONS VIOLATION</td>\n",
       "      <td>True</td>\n",
       "      <td>10/09/2018 12:27:00 AM</td>\n",
       "      <td>143A</td>\n",
       "      <td>UNLAWFUL POSS OF HANDGUN</td>\n",
       "      <td>STREET</td>\n",
       "      <td>15</td>\n",
       "      <td>2018</td>\n",
       "      <td>41.752899</td>\n",
       "      <td>-87.617435</td>\n",
       "    </tr>\n",
       "    <tr>\n",
       "      <th>3</th>\n",
       "      <td>6.0</td>\n",
       "      <td>WEAPONS VIOLATION</td>\n",
       "      <td>True</td>\n",
       "      <td>10/08/2018 10:00:00 PM</td>\n",
       "      <td>143A</td>\n",
       "      <td>UNLAWFUL POSS OF HANDGUN</td>\n",
       "      <td>VEHICLE NON-COMMERCIAL</td>\n",
       "      <td>15</td>\n",
       "      <td>2018</td>\n",
       "      <td>41.758364</td>\n",
       "      <td>-87.617594</td>\n",
       "    </tr>\n",
       "    <tr>\n",
       "      <th>4</th>\n",
       "      <td>6.0</td>\n",
       "      <td>WEAPONS VIOLATION</td>\n",
       "      <td>True</td>\n",
       "      <td>10/08/2018 02:38:00 PM</td>\n",
       "      <td>143A</td>\n",
       "      <td>UNLAWFUL POSS OF HANDGUN</td>\n",
       "      <td>STREET</td>\n",
       "      <td>15</td>\n",
       "      <td>2018</td>\n",
       "      <td>41.744909</td>\n",
       "      <td>-87.603789</td>\n",
       "    </tr>\n",
       "  </tbody>\n",
       "</table>\n",
       "</div>"
      ],
      "text/plain": [
       "   District       Primary Type  Arrest                    Date  IUCR  \\\n",
       "0       1.0              ARSON    True  10/26/2015 07:06:00 PM  1090   \n",
       "1       6.0  WEAPONS VIOLATION    True  10/09/2018 11:22:00 PM  143A   \n",
       "2       6.0  WEAPONS VIOLATION    True  10/09/2018 12:27:00 AM  143A   \n",
       "3       6.0  WEAPONS VIOLATION    True  10/08/2018 10:00:00 PM  143A   \n",
       "4       6.0  WEAPONS VIOLATION    True  10/08/2018 02:38:00 PM  143A   \n",
       "\n",
       "                Description    Location Description FBI Code  Year   Latitude  \\\n",
       "0             ATTEMPT ARSON       CONSTRUCTION SITE       09  2015  41.885874   \n",
       "1  UNLAWFUL POSS OF HANDGUN                  STREET       15  2018  41.750717   \n",
       "2  UNLAWFUL POSS OF HANDGUN                  STREET       15  2018  41.752899   \n",
       "3  UNLAWFUL POSS OF HANDGUN  VEHICLE NON-COMMERCIAL       15  2018  41.758364   \n",
       "4  UNLAWFUL POSS OF HANDGUN                  STREET       15  2018  41.744909   \n",
       "\n",
       "   Longitude  \n",
       "0 -87.625284  \n",
       "1 -87.638868  \n",
       "2 -87.617435  \n",
       "3 -87.617594  \n",
       "4 -87.603789  "
      ]
     },
     "execution_count": 8,
     "metadata": {},
     "output_type": "execute_result"
    }
   ],
   "source": [
    "#read csv files and print the file\n",
    "crimes=pd.read_csv('Resources/Crimes_2015toPresent.csv')\n",
    "crimes.head()"
   ]
  },
  {
   "cell_type": "code",
   "execution_count": 9,
   "metadata": {},
   "outputs": [
    {
     "data": {
      "text/plain": [
       "Year\n",
       "2015    39908\n",
       "2016    51806\n",
       "2017    51592\n",
       "2018    52314\n",
       "2019    25715\n",
       "2020     2194\n",
       "2021      322\n",
       "2022       33\n",
       "2023      325\n",
       "dtype: int64"
      ]
     },
     "execution_count": 9,
     "metadata": {},
     "output_type": "execute_result"
    }
   ],
   "source": [
    "#count the number of arrests per year\n",
    "total_arrests_per_year = crimes[crimes['Arrest'] == True].groupby('Year').size()\n",
    "total_arrests_per_year"
   ]
  },
  {
   "cell_type": "code",
   "execution_count": 10,
   "metadata": {},
   "outputs": [
    {
     "data": {
      "text/plain": [
       "<function matplotlib.pyplot.show(close=None, block=None)>"
      ]
     },
     "execution_count": 10,
     "metadata": {},
     "output_type": "execute_result"
    },
    {
     "data": {
      "image/png": "[encoded data removed]",
      "text/plain": [
       "<Figure size 640x480 with 1 Axes>"
      ]
     },
     "metadata": {},
     "output_type": "display_data"
    }
   ],
   "source": [
    "#plot the number of arrests per year\n",
    "total_arrests_per_year.plot(kind='bar', color= 'r', alpha=0.5, align=\"edge\")\n",
    "plt.xticks(rotation=\"vertical\")\n",
    "plt.xlabel(\"Year\")\n",
    "plt.ylabel(\"Total Arrests Made\")\n",
    "plt.title(\"Total Arrests Made per Year\")\n",
    "plt.show\n"
   ]
  },
  {
   "cell_type": "code",
   "execution_count": 11,
   "metadata": {},
   "outputs": [
    {
     "data": {
      "text/plain": [
       "District\n",
       "1.0     10254\n",
       "2.0      7247\n",
       "3.0      9806\n",
       "4.0     13049\n",
       "5.0     11768\n",
       "6.0     15806\n",
       "7.0     15426\n",
       "8.0     11684\n",
       "9.0     10096\n",
       "10.0    14743\n",
       "11.0    28796\n",
       "12.0     7661\n",
       "14.0     5018\n",
       "15.0    11708\n",
       "16.0     5627\n",
       "17.0     3869\n",
       "18.0     9020\n",
       "19.0     7023\n",
       "20.0     3038\n",
       "22.0     6159\n",
       "24.0     4650\n",
       "25.0    11747\n",
       "31.0       14\n",
       "dtype: int64"
      ]
     },
     "execution_count": 11,
     "metadata": {},
     "output_type": "execute_result"
    }
   ],
   "source": [
    "#Now count the number of arrests made per district\n",
    "total_arrests_per_district = crimes[crimes['Arrest'] == True].groupby('District').size()\n",
    "total_arrests_per_district"
   ]
  },
  {
   "cell_type": "code",
   "execution_count": 12,
   "metadata": {},
   "outputs": [
    {
     "data": {
      "text/plain": [
       "<function matplotlib.pyplot.show(close=None, block=None)>"
      ]
     },
     "execution_count": 12,
     "metadata": {},
     "output_type": "execute_result"
    },
    {
     "data": {
      "image/png": "[encoded data removed]",
      "text/plain": [
       "<Figure size 640x480 with 1 Axes>"
      ]
     },
     "metadata": {},
     "output_type": "display_data"
    }
   ],
   "source": [
    "#Plot the number of arrests per district\n",
    "total_arrests_per_district.plot(kind='bar', color= 'r', alpha=0.5, align=\"edge\")\n",
    "plt.xlabel(\"District\")\n",
    "plt.ylabel(\"Total Arrests Made\")\n",
    "plt.title(\"Total Arrests Made per District\")\n",
    "plt.show"
   ]
  },
  {
   "cell_type": "code",
   "execution_count": null,
   "metadata": {},
   "outputs": [],
   "source": []
  },
  {
   "cell_type": "code",
   "execution_count": null,
   "metadata": {},
   "outputs": [],
   "source": []
  },
  {
   "cell_type": "code",
   "execution_count": null,
   "metadata": {},
   "outputs": [],
   "source": []
  },
  {
   "cell_type": "code",
   "execution_count": null,
   "metadata": {},
   "outputs": [],
   "source": []
  }
 ],
 "metadata": {
  "kernelspec": {
   "display_name": "base",
   "language": "python",
   "name": "python3"
  },
  "language_info": {
   "codemirror_mode": {
    "name": "ipython",
    "version": 3
   },
   "file_extension": ".py",
   "mimetype": "text/x-python",
   "name": "python",
   "nbconvert_exporter": "python",
   "pygments_lexer": "ipython3",
   "version": "3.10.9"
  },
  "orig_nbformat": 4
 },
 "nbformat": 4,
 "nbformat_minor": 2
}
